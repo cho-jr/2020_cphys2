{
  "nbformat": 4,
  "nbformat_minor": 0,
  "metadata": {
    "colab": {
      "name": "hw_10.ipynb",
      "provenance": [],
      "authorship_tag": "ABX9TyOkzejb7nB2ouGGJzMqLYQM",
      "include_colab_link": true
    },
    "kernelspec": {
      "name": "python3",
      "display_name": "Python 3"
    }
  },
  "cells": [
    {
      "cell_type": "markdown",
      "metadata": {
        "id": "view-in-github",
        "colab_type": "text"
      },
      "source": [
        "<a href=\"https://colab.research.google.com/github/cho-jr/2020_cphys2/blob/master/hw_10.ipynb\" target=\"_parent\"><img src=\"https://colab.research.google.com/assets/colab-badge.svg\" alt=\"Open In Colab\"/></a>"
      ]
    },
    {
      "cell_type": "code",
      "metadata": {
        "colab": {
          "base_uri": "https://localhost:8080/"
        },
        "id": "2WGRB9_W5xiq",
        "outputId": "2644db93-ef44-4bb1-8633-cee617e3ed80"
      },
      "source": [
        "import numpy as np\n",
        "from tensorflow import keras\n",
        "from keras import models\n",
        "from keras import layers\n",
        "import matplotlib.pyplot as plt\n",
        "\n",
        "from keras.datasets import imdb\n",
        "\n",
        "(X, y_train), (X_test, y_test) = imdb.load_data(num_words=10000)"
      ],
      "execution_count": 2,
      "outputs": [
        {
          "output_type": "stream",
          "text": [
            "Downloading data from https://storage.googleapis.com/tensorflow/tf-keras-datasets/imdb.npz\n",
            "17465344/17464789 [==============================] - 0s 0us/step\n"
          ],
          "name": "stdout"
        }
      ]
    },
    {
      "cell_type": "code",
      "metadata": {
        "id": "RqK56Ofg7O6D"
      },
      "source": [
        "# text to vector\n",
        "def vect(seq, dim=10000):\n",
        "    x=np.zeros((len(seq),dim))\n",
        "    for n, i in enumerate(seq):\n",
        "        x[n, i] = 1\n",
        "    return x\n",
        "\n",
        "X_train=vect(X)\n",
        "X_test=vect(X_test)"
      ],
      "execution_count": 3,
      "outputs": []
    },
    {
      "cell_type": "code",
      "metadata": {
        "colab": {
          "base_uri": "https://localhost:8080/"
        },
        "id": "OJCrrQ9v7lOe",
        "outputId": "933ca38a-5abe-4110-a70c-2a82e9085e45"
      },
      "source": [
        "X_train[0]"
      ],
      "execution_count": 7,
      "outputs": [
        {
          "output_type": "execute_result",
          "data": {
            "text/plain": [
              "array([0., 1., 1., ..., 0., 0., 0.])"
            ]
          },
          "metadata": {
            "tags": []
          },
          "execution_count": 7
        }
      ]
    },
    {
      "cell_type": "code",
      "metadata": {
        "colab": {
          "base_uri": "https://localhost:8080/"
        },
        "id": "v3qUy0ws7nAh",
        "outputId": "d5f44916-41d0-4722-d5bf-bdababc4f0d2"
      },
      "source": [
        "net = models.Sequential()\n",
        "net.add(layers.Dense(16, activation='relu', input_shape=(10000,)))\n",
        "net.add(layers.Dropout(0.5))\n",
        "net.add(layers.Dense(16, activation='relu'))\n",
        "net.add(layers.Dropout(0.5))\n",
        "net.add(layers.Dense(1, activation='sigmoid'))\n",
        "net.compile(optimizer='nadam', loss='binary_crossentropy', metrics = ['acc'])\n",
        "\n",
        "X_val = X_train[:10000]\n",
        "partial_X_train = X_train[10000:]\n",
        "\n",
        "y_val = y_train[:10000]\n",
        "partial_y_train = y_train[10000:]\n",
        "\n",
        "val = net.fit(partial_X_train, partial_y_train, epochs=5, batch_size=128, validation_data=(X_val, y_val))"
      ],
      "execution_count": 8,
      "outputs": [
        {
          "output_type": "stream",
          "text": [
            "Epoch 1/5\n",
            "118/118 [==============================] - 2s 13ms/step - loss: 0.5677 - acc: 0.6953 - val_loss: 0.3758 - val_acc: 0.8598\n",
            "Epoch 2/5\n",
            "118/118 [==============================] - 1s 11ms/step - loss: 0.3559 - acc: 0.8615 - val_loss: 0.2755 - val_acc: 0.8896\n",
            "Epoch 3/5\n",
            "118/118 [==============================] - 1s 11ms/step - loss: 0.2647 - acc: 0.9038 - val_loss: 0.2766 - val_acc: 0.8887\n",
            "Epoch 4/5\n",
            "118/118 [==============================] - 1s 11ms/step - loss: 0.2128 - acc: 0.9271 - val_loss: 0.2759 - val_acc: 0.8886\n",
            "Epoch 5/5\n",
            "118/118 [==============================] - 1s 11ms/step - loss: 0.1751 - acc: 0.9393 - val_loss: 0.3226 - val_acc: 0.8826\n"
          ],
          "name": "stdout"
        }
      ]
    },
    {
      "cell_type": "code",
      "metadata": {
        "colab": {
          "base_uri": "https://localhost:8080/",
          "height": 282
        },
        "id": "06lOvUVf77HJ",
        "outputId": "80a90c16-b06d-4301-e95c-ca0d329111f9"
      },
      "source": [
        "\n",
        "val_dict = val.history\n",
        "loss = val_dict['loss']\n",
        "val_loss = val_dict['val_loss']\n",
        "x = np.arange(0,len(loss))\n",
        "\n",
        "plt.plot(x,loss,'-')\n",
        "plt.plot(x,val_loss,'o')"
      ],
      "execution_count": 9,
      "outputs": [
        {
          "output_type": "execute_result",
          "data": {
            "text/plain": [
              "[<matplotlib.lines.Line2D at 0x7f48637fc6d8>]"
            ]
          },
          "metadata": {
            "tags": []
          },
          "execution_count": 9
        },
        {
          "output_type": "display_data",
          "data": {
            "image/png": "[encoded data removed]",
            "text/plain": [
              "<Figure size 432x288 with 1 Axes>"
            ]
          },
          "metadata": {
            "tags": [],
            "needs_background": "light"
          }
        }
      ]
    },
    {
      "cell_type": "code",
      "metadata": {
        "colab": {
          "base_uri": "https://localhost:8080/"
        },
        "id": "hf2kOYKd79gw",
        "outputId": "45c305a1-5fa5-4f5e-b6b2-2baa9bdee400"
      },
      "source": [
        "test_loss, test_acc = net.evaluate(X_test,y_test)"
      ],
      "execution_count": 10,
      "outputs": [
        {
          "output_type": "stream",
          "text": [
            "782/782 [==============================] - 1s 1ms/step - loss: 0.3401 - acc: 0.8735\n"
          ],
          "name": "stdout"
        }
      ]
    },
    {
      "cell_type": "markdown",
      "metadata": {
        "id": "pSeb4pNx8EKl"
      },
      "source": [
        "#  IMDB Classification using simple RNN"
      ]
    },
    {
      "cell_type": "code",
      "metadata": {
        "id": "tgh1NUqx8Ap-"
      },
      "source": [
        "from keras.preprocessing import sequence\n",
        "\n",
        "max_words=10000 \n",
        "(X_train, y_train), (X_test, y_test) = imdb.load_data(num_words=max_words)\n",
        "\n",
        "maxlen = 100 # sequence length\n",
        "X_train = sequence.pad_sequences(X_train, maxlen=maxlen)\n",
        "X_test = sequence.pad_sequences(X_test, maxlen=maxlen)"
      ],
      "execution_count": 11,
      "outputs": []
    },
    {
      "cell_type": "code",
      "metadata": {
        "colab": {
          "base_uri": "https://localhost:8080/"
        },
        "id": "lYGRD4s48L_x",
        "outputId": "9ebf5994-8ef5-43bf-a4ba-ef6d665ef9b3"
      },
      "source": [
        "X_train[0]"
      ],
      "execution_count": 12,
      "outputs": [
        {
          "output_type": "execute_result",
          "data": {
            "text/plain": [
              "array([1415,   33,    6,   22,   12,  215,   28,   77,   52,    5,   14,\n",
              "        407,   16,   82,    2,    8,    4,  107,  117, 5952,   15,  256,\n",
              "          4,    2,    7, 3766,    5,  723,   36,   71,   43,  530,  476,\n",
              "         26,  400,  317,   46,    7,    4,    2, 1029,   13,  104,   88,\n",
              "          4,  381,   15,  297,   98,   32, 2071,   56,   26,  141,    6,\n",
              "        194, 7486,   18,    4,  226,   22,   21,  134,  476,   26,  480,\n",
              "          5,  144,   30, 5535,   18,   51,   36,   28,  224,   92,   25,\n",
              "        104,    4,  226,   65,   16,   38, 1334,   88,   12,   16,  283,\n",
              "          5,   16, 4472,  113,  103,   32,   15,   16, 5345,   19,  178,\n",
              "         32], dtype=int32)"
            ]
          },
          "metadata": {
            "tags": []
          },
          "execution_count": 12
        }
      ]
    },
    {
      "cell_type": "code",
      "metadata": {
        "id": "fldSibT08OG0"
      },
      "source": [
        "rnn = models.Sequential()\n",
        "rnn.add(layers.Embedding(max_words, 16))\n",
        "rnn.add(layers.SimpleRNN(32, activation='relu', dropout=0.2, return_sequences='True'))\n",
        "rnn.add(layers.Dropout(0.3))\n",
        "rnn.add(layers.SimpleRNN(16, activation='relu', dropout=0.2, return_sequences='True'))\n",
        "rnn.add(layers.Dropout(0.3))\n",
        "rnn.add(layers.SimpleRNN(16, activation='relu', dropout=0.2, ))\n",
        "rnn.add(layers.Dropout(0.3))\n",
        "rnn.add(layers.Dense(1, activation='sigmoid'))\n",
        "rnn.compile(optimizer='nadam', loss='binary_crossentropy', metrics=['acc'])"
      ],
      "execution_count": 62,
      "outputs": []
    },
    {
      "cell_type": "code",
      "metadata": {
        "colab": {
          "base_uri": "https://localhost:8080/"
        },
        "id": "ifY8GXWD82lj",
        "outputId": "f230818f-de45-4ba2-b850-02cef4afc2a0"
      },
      "source": [
        "rnn.summary()"
      ],
      "execution_count": 63,
      "outputs": [
        {
          "output_type": "stream",
          "text": [
            "Model: \"sequential_8\"\n",
            "_________________________________________________________________\n",
            "Layer (type)                 Output Shape              Param #   \n",
            "=================================================================\n",
            "embedding_7 (Embedding)      (None, None, 16)          160000    \n",
            "_________________________________________________________________\n",
            "simple_rnn_12 (SimpleRNN)    (None, None, 32)          1568      \n",
            "_________________________________________________________________\n",
            "dropout_12 (Dropout)         (None, None, 32)          0         \n",
            "_________________________________________________________________\n",
            "simple_rnn_13 (SimpleRNN)    (None, None, 16)          784       \n",
            "_________________________________________________________________\n",
            "dropout_13 (Dropout)         (None, None, 16)          0         \n",
            "_________________________________________________________________\n",
            "simple_rnn_14 (SimpleRNN)    (None, 16)                528       \n",
            "_________________________________________________________________\n",
            "dropout_14 (Dropout)         (None, 16)                0         \n",
            "_________________________________________________________________\n",
            "dense_7 (Dense)              (None, 1)                 17        \n",
            "=================================================================\n",
            "Total params: 162,897\n",
            "Trainable params: 162,897\n",
            "Non-trainable params: 0\n",
            "_________________________________________________________________\n"
          ],
          "name": "stdout"
        }
      ]
    },
    {
      "cell_type": "code",
      "metadata": {
        "colab": {
          "base_uri": "https://localhost:8080/"
        },
        "id": "ka-3LlVS-5Nf",
        "outputId": "449b82a8-bca4-4127-a5b0-d4047c1c88d6"
      },
      "source": [
        "history = rnn.fit(X_train, y_train, epochs=10, batch_size=128, validation_split=0.3)"
      ],
      "execution_count": 64,
      "outputs": [
        {
          "output_type": "stream",
          "text": [
            "Epoch 1/10\n",
            "137/137 [==============================] - 13s 97ms/step - loss: 0.6930 - acc: 0.5055 - val_loss: 0.6907 - val_acc: 0.5639\n",
            "Epoch 2/10\n",
            "137/137 [==============================] - 13s 95ms/step - loss: 0.6717 - acc: 0.5810 - val_loss: 0.6040 - val_acc: 0.6876\n",
            "Epoch 3/10\n",
            "137/137 [==============================] - 13s 93ms/step - loss: 0.5057 - acc: 0.7647 - val_loss: 0.4066 - val_acc: 0.8164\n",
            "Epoch 4/10\n",
            "137/137 [==============================] - 13s 96ms/step - loss: 0.3716 - acc: 0.8461 - val_loss: 0.3545 - val_acc: 0.8428\n",
            "Epoch 5/10\n",
            "137/137 [==============================] - 13s 95ms/step - loss: 0.3131 - acc: 0.8779 - val_loss: 0.3549 - val_acc: 0.8439\n",
            "Epoch 6/10\n",
            "137/137 [==============================] - 13s 95ms/step - loss: 0.2651 - acc: 0.9002 - val_loss: 0.3577 - val_acc: 0.8476\n",
            "Epoch 7/10\n",
            "137/137 [==============================] - 13s 94ms/step - loss: 0.2337 - acc: 0.9120 - val_loss: 0.3754 - val_acc: 0.8476\n",
            "Epoch 8/10\n",
            "137/137 [==============================] - 13s 94ms/step - loss: 0.2033 - acc: 0.9230 - val_loss: 0.4776 - val_acc: 0.8388\n",
            "Epoch 9/10\n",
            "137/137 [==============================] - 13s 93ms/step - loss: 0.1879 - acc: 0.9295 - val_loss: 0.4179 - val_acc: 0.8452\n",
            "Epoch 10/10\n",
            "137/137 [==============================] - 13s 95ms/step - loss: 0.1694 - acc: 0.9380 - val_loss: 0.4604 - val_acc: 0.8448\n"
          ],
          "name": "stdout"
        }
      ]
    },
    {
      "cell_type": "code",
      "metadata": {
        "colab": {
          "base_uri": "https://localhost:8080/",
          "height": 282
        },
        "id": "6ul5ZpeW-AFC",
        "outputId": "b2e98c55-cc8d-4370-91eb-39c8ae9acaa4"
      },
      "source": [
        "val_dict = history.history\n",
        "loss = val_dict['loss']\n",
        "val_loss = val_dict['val_loss']\n",
        "x = np.arange(0, len(loss))\n",
        "\n",
        "plt.plot(x, loss, '-')\n",
        "plt.plot(x, val_loss, 'o')"
      ],
      "execution_count": 65,
      "outputs": [
        {
          "output_type": "execute_result",
          "data": {
            "text/plain": [
              "[<matplotlib.lines.Line2D at 0x7f485d8d3400>]"
            ]
          },
          "metadata": {
            "tags": []
          },
          "execution_count": 65
        },
        {
          "output_type": "display_data",
          "data": {
            "image/png": "[encoded data removed]",
            "text/plain": [
              "<Figure size 432x288 with 1 Axes>"
            ]
          },
          "metadata": {
            "tags": [],
            "needs_background": "light"
          }
        }
      ]
    },
    {
      "cell_type": "code",
      "metadata": {
        "colab": {
          "base_uri": "https://localhost:8080/"
        },
        "id": "FvnY1AXC_1WS",
        "outputId": "a6b352c2-7870-4006-d839-f921dd1b36ff"
      },
      "source": [
        "rnn.evaluate(X_test, y_test)"
      ],
      "execution_count": 67,
      "outputs": [
        {
          "output_type": "stream",
          "text": [
            "782/782 [==============================] - 9s 11ms/step - loss: 0.4824 - acc: 0.8343\n"
          ],
          "name": "stdout"
        },
        {
          "output_type": "execute_result",
          "data": {
            "text/plain": [
              "[0.4823593497276306, 0.8342800140380859]"
            ]
          },
          "metadata": {
            "tags": []
          },
          "execution_count": 67
        }
      ]
    },
    {
      "cell_type": "markdown",
      "metadata": {
        "id": "GglbQmHvKn0J"
      },
      "source": [
        "RNN이 다층 신경망보다 정확도를 높이는 적절한 조건을 찾기 어려웠다. simple RNN activation function의 기본값은 tanh였으나 acc가 0.7 미만을 맴돌아서 relu로 바꿔주었더니 소폭 상승했다. loss 또한 RNN이 더 크다."
      ]
    },
    {
      "cell_type": "code",
      "metadata": {
        "id": "VXq0dFQMFUBU"
      },
      "source": [
        ""
      ],
      "execution_count": 46,
      "outputs": []
    },
    {
      "cell_type": "code",
      "metadata": {
        "id": "OBjpkGPpKmwe"
      },
      "source": [
        ""
      ],
      "execution_count": null,
      "outputs": []
    }
  ]
}