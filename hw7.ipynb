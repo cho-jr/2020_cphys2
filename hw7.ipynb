{
  "nbformat": 4,
  "nbformat_minor": 0,
  "metadata": {
    "colab": {
      "name": "hw7.ipynb",
      "provenance": [],
      "collapsed_sections": []
    },
    "kernelspec": {
      "name": "python3",
      "display_name": "Python 3"
    }
  },
  "cells": [
    {
      "cell_type": "markdown",
      "metadata": {
        "id": "Zqw9oaKOZfb-"
      },
      "source": [
        "# MNIST"
      ]
    },
    {
      "cell_type": "code",
      "metadata": {
        "id": "SnzBTQd0ZbvG"
      },
      "source": [
        "from keras.datasets import mnist\n",
        "from tensorflow import keras\n",
        "from keras import models\n",
        "from keras import layers\n",
        "import numpy as np\n",
        "import matplotlib.pyplot as plt\n",
        "from keras.utils import to_categorical"
      ],
      "execution_count": 110,
      "outputs": []
    },
    {
      "cell_type": "markdown",
      "metadata": {
        "id": "X1gSjIAc3Xtt"
      },
      "source": [
        "# Softmax"
      ]
    },
    {
      "cell_type": "code",
      "metadata": {
        "id": "2UAryRwEaDl0"
      },
      "source": [
        "(X, y), (Xtest, y_test) = mnist.load_data()\n",
        "y_train = to_categorical(y)\n",
        "y_test = to_categorical(y_test)"
      ],
      "execution_count": 132,
      "outputs": []
    },
    {
      "cell_type": "code",
      "metadata": {
        "id": "QZESl7oTdfbZ"
      },
      "source": [
        "net = models.Sequential()\n",
        "net.add(layers.Dense(10, activation='softmax', input_shape=(28*28, )))\n",
        "#input_dim = 1, units = 1\n",
        "net.compile(optimizer = 'sgd', \n",
        "            loss = 'categorical_crossentropy', \n",
        "            metrics = ['accuracy'])\n"
      ],
      "execution_count": 133,
      "outputs": []
    },
    {
      "cell_type": "code",
      "metadata": {
        "id": "Bo-KRgXifmCA"
      },
      "source": [
        "#preprocessing\n",
        "\n",
        "X_train = X.reshape((60000, 28*28))\n",
        "X_train = X_train/255\n",
        "\n",
        "X_test = Xtest.reshape((10000, 28*28))\n",
        "X_test = X_test/255\n"
      ],
      "execution_count": 134,
      "outputs": []
    },
    {
      "cell_type": "code",
      "metadata": {
        "id": "TCyW8qcWf_hB",
        "outputId": "25e73503-114a-45e3-d9e8-77f4150d951c",
        "colab": {
          "base_uri": "https://localhost:8080/",
          "height": 1000
        }
      },
      "source": [
        "hist = net.fit(X_train, y_train, epochs=100)\n",
        "y_acc = hist.history['accuracy']\n"
      ],
      "execution_count": 114,
      "outputs": [
        {
          "output_type": "stream",
          "text": [
            "Epoch 1/100\n",
            "1875/1875 [==============================] - 2s 1ms/step - loss: 0.7798 - accuracy: 0.8134\n",
            "Epoch 2/100\n",
            "1875/1875 [==============================] - 2s 1ms/step - loss: 0.4560 - accuracy: 0.8802\n",
            "Epoch 3/100\n",
            "1875/1875 [==============================] - 2s 1ms/step - loss: 0.4032 - accuracy: 0.8904\n",
            "Epoch 4/100\n",
            "1875/1875 [==============================] - 2s 1ms/step - loss: 0.3767 - accuracy: 0.8962\n",
            "Epoch 5/100\n",
            "1875/1875 [==============================] - 2s 1ms/step - loss: 0.3600 - accuracy: 0.9007\n",
            "Epoch 6/100\n",
            "1875/1875 [==============================] - 2s 1ms/step - loss: 0.3480 - accuracy: 0.9031\n",
            "Epoch 7/100\n",
            "1875/1875 [==============================] - 2s 1ms/step - loss: 0.3392 - accuracy: 0.9050\n",
            "Epoch 8/100\n",
            "1875/1875 [==============================] - 2s 1ms/step - loss: 0.3321 - accuracy: 0.9071\n",
            "Epoch 9/100\n",
            "1875/1875 [==============================] - 2s 1ms/step - loss: 0.3261 - accuracy: 0.9088\n",
            "Epoch 10/100\n",
            "1875/1875 [==============================] - 2s 1ms/step - loss: 0.3213 - accuracy: 0.9103\n",
            "Epoch 11/100\n",
            "1875/1875 [==============================] - 2s 1ms/step - loss: 0.3171 - accuracy: 0.9112\n",
            "Epoch 12/100\n",
            "1875/1875 [==============================] - 2s 1ms/step - loss: 0.3134 - accuracy: 0.9122\n",
            "Epoch 13/100\n",
            "1875/1875 [==============================] - 2s 1ms/step - loss: 0.3102 - accuracy: 0.9137\n",
            "Epoch 14/100\n",
            "1875/1875 [==============================] - 2s 1ms/step - loss: 0.3074 - accuracy: 0.9141\n",
            "Epoch 15/100\n",
            "1875/1875 [==============================] - 2s 1ms/step - loss: 0.3048 - accuracy: 0.9150\n",
            "Epoch 16/100\n",
            "1875/1875 [==============================] - 2s 1ms/step - loss: 0.3025 - accuracy: 0.9156\n",
            "Epoch 17/100\n",
            "1875/1875 [==============================] - 2s 1ms/step - loss: 0.3004 - accuracy: 0.9161\n",
            "Epoch 18/100\n",
            "1875/1875 [==============================] - 2s 1ms/step - loss: 0.2983 - accuracy: 0.9169\n",
            "Epoch 19/100\n",
            "1875/1875 [==============================] - 2s 1ms/step - loss: 0.2966 - accuracy: 0.9173\n",
            "Epoch 20/100\n",
            "1875/1875 [==============================] - 2s 1ms/step - loss: 0.2950 - accuracy: 0.9178\n",
            "Epoch 21/100\n",
            "1875/1875 [==============================] - 2s 1ms/step - loss: 0.2934 - accuracy: 0.9183\n",
            "Epoch 22/100\n",
            "1875/1875 [==============================] - 2s 1ms/step - loss: 0.2921 - accuracy: 0.9185\n",
            "Epoch 23/100\n",
            "1875/1875 [==============================] - 2s 1ms/step - loss: 0.2906 - accuracy: 0.9194\n",
            "Epoch 24/100\n",
            "1875/1875 [==============================] - 2s 1ms/step - loss: 0.2894 - accuracy: 0.9191\n",
            "Epoch 25/100\n",
            "1875/1875 [==============================] - 2s 1ms/step - loss: 0.2882 - accuracy: 0.9198\n",
            "Epoch 26/100\n",
            "1875/1875 [==============================] - 2s 1ms/step - loss: 0.2871 - accuracy: 0.9199\n",
            "Epoch 27/100\n",
            "1875/1875 [==============================] - 2s 1ms/step - loss: 0.2860 - accuracy: 0.9204\n",
            "Epoch 28/100\n",
            "1875/1875 [==============================] - 2s 1ms/step - loss: 0.2849 - accuracy: 0.9208\n",
            "Epoch 29/100\n",
            "1875/1875 [==============================] - 2s 1ms/step - loss: 0.2841 - accuracy: 0.9214\n",
            "Epoch 30/100\n",
            "1875/1875 [==============================] - 2s 1ms/step - loss: 0.2832 - accuracy: 0.9211\n",
            "Epoch 31/100\n",
            "1875/1875 [==============================] - 2s 1ms/step - loss: 0.2822 - accuracy: 0.9216\n",
            "Epoch 32/100\n",
            "1875/1875 [==============================] - 2s 1ms/step - loss: 0.2815 - accuracy: 0.9218\n",
            "Epoch 33/100\n",
            "1875/1875 [==============================] - 2s 1ms/step - loss: 0.2807 - accuracy: 0.9220\n",
            "Epoch 34/100\n",
            "1875/1875 [==============================] - 2s 1ms/step - loss: 0.2801 - accuracy: 0.9219\n",
            "Epoch 35/100\n",
            "1875/1875 [==============================] - 2s 1ms/step - loss: 0.2793 - accuracy: 0.9226\n",
            "Epoch 36/100\n",
            "1875/1875 [==============================] - 2s 1ms/step - loss: 0.2785 - accuracy: 0.9225\n",
            "Epoch 37/100\n",
            "1875/1875 [==============================] - 2s 1ms/step - loss: 0.2779 - accuracy: 0.9231\n",
            "Epoch 38/100\n",
            "1875/1875 [==============================] - 2s 1ms/step - loss: 0.2772 - accuracy: 0.9234\n",
            "Epoch 39/100\n",
            "1875/1875 [==============================] - 2s 1ms/step - loss: 0.2766 - accuracy: 0.9234\n",
            "Epoch 40/100\n",
            "1875/1875 [==============================] - 2s 1ms/step - loss: 0.2761 - accuracy: 0.9233\n",
            "Epoch 41/100\n",
            "1875/1875 [==============================] - 2s 1ms/step - loss: 0.2755 - accuracy: 0.9240\n",
            "Epoch 42/100\n",
            "1875/1875 [==============================] - 2s 1ms/step - loss: 0.2749 - accuracy: 0.9238\n",
            "Epoch 43/100\n",
            "1875/1875 [==============================] - 2s 1ms/step - loss: 0.2743 - accuracy: 0.9241\n",
            "Epoch 44/100\n",
            "1875/1875 [==============================] - 2s 1ms/step - loss: 0.2738 - accuracy: 0.9243\n",
            "Epoch 45/100\n",
            "1875/1875 [==============================] - 2s 1ms/step - loss: 0.2733 - accuracy: 0.9243\n",
            "Epoch 46/100\n",
            "1875/1875 [==============================] - 2s 1ms/step - loss: 0.2728 - accuracy: 0.9245\n",
            "Epoch 47/100\n",
            "1875/1875 [==============================] - 2s 1ms/step - loss: 0.2723 - accuracy: 0.9248\n",
            "Epoch 48/100\n",
            "1875/1875 [==============================] - 2s 1ms/step - loss: 0.2719 - accuracy: 0.9249\n",
            "Epoch 49/100\n",
            "1875/1875 [==============================] - 2s 1ms/step - loss: 0.2713 - accuracy: 0.9249\n",
            "Epoch 50/100\n",
            "1875/1875 [==============================] - 2s 1ms/step - loss: 0.2709 - accuracy: 0.9252\n",
            "Epoch 51/100\n",
            "1875/1875 [==============================] - 2s 1ms/step - loss: 0.2705 - accuracy: 0.9254\n",
            "Epoch 52/100\n",
            "1875/1875 [==============================] - 2s 1ms/step - loss: 0.2702 - accuracy: 0.9254\n",
            "Epoch 53/100\n",
            "1875/1875 [==============================] - 2s 1ms/step - loss: 0.2697 - accuracy: 0.9255\n",
            "Epoch 54/100\n",
            "1875/1875 [==============================] - 2s 1ms/step - loss: 0.2693 - accuracy: 0.9257\n",
            "Epoch 55/100\n",
            "1875/1875 [==============================] - 2s 1ms/step - loss: 0.2689 - accuracy: 0.9255\n",
            "Epoch 56/100\n",
            "1875/1875 [==============================] - 2s 1ms/step - loss: 0.2686 - accuracy: 0.9259\n",
            "Epoch 57/100\n",
            "1875/1875 [==============================] - 2s 1ms/step - loss: 0.2683 - accuracy: 0.9259\n",
            "Epoch 58/100\n",
            "1875/1875 [==============================] - 2s 1ms/step - loss: 0.2679 - accuracy: 0.9260\n",
            "Epoch 59/100\n",
            "1875/1875 [==============================] - 2s 1ms/step - loss: 0.2675 - accuracy: 0.9259\n",
            "Epoch 60/100\n",
            "1875/1875 [==============================] - 2s 1ms/step - loss: 0.2671 - accuracy: 0.9260\n",
            "Epoch 61/100\n",
            "1875/1875 [==============================] - 2s 1ms/step - loss: 0.2667 - accuracy: 0.9260\n",
            "Epoch 62/100\n",
            "1875/1875 [==============================] - 2s 1ms/step - loss: 0.2665 - accuracy: 0.9259\n",
            "Epoch 63/100\n",
            "1875/1875 [==============================] - 2s 1ms/step - loss: 0.2662 - accuracy: 0.9266\n",
            "Epoch 64/100\n",
            "1875/1875 [==============================] - 2s 1ms/step - loss: 0.2659 - accuracy: 0.9267\n",
            "Epoch 65/100\n",
            "1875/1875 [==============================] - 2s 1ms/step - loss: 0.2655 - accuracy: 0.9268\n",
            "Epoch 66/100\n",
            "1875/1875 [==============================] - 2s 1ms/step - loss: 0.2653 - accuracy: 0.9269\n",
            "Epoch 67/100\n",
            "1875/1875 [==============================] - 2s 1ms/step - loss: 0.2649 - accuracy: 0.9266\n",
            "Epoch 68/100\n",
            "1875/1875 [==============================] - 2s 1ms/step - loss: 0.2646 - accuracy: 0.9271\n",
            "Epoch 69/100\n",
            "1875/1875 [==============================] - 2s 1ms/step - loss: 0.2643 - accuracy: 0.9269\n",
            "Epoch 70/100\n",
            "1875/1875 [==============================] - 2s 1ms/step - loss: 0.2641 - accuracy: 0.9271\n",
            "Epoch 71/100\n",
            "1875/1875 [==============================] - 2s 1ms/step - loss: 0.2639 - accuracy: 0.9274\n",
            "Epoch 72/100\n",
            "1875/1875 [==============================] - 2s 1ms/step - loss: 0.2636 - accuracy: 0.9272\n",
            "Epoch 73/100\n",
            "1875/1875 [==============================] - 2s 1ms/step - loss: 0.2633 - accuracy: 0.9272\n",
            "Epoch 74/100\n",
            "1875/1875 [==============================] - 2s 1ms/step - loss: 0.2631 - accuracy: 0.9273\n",
            "Epoch 75/100\n",
            "1875/1875 [==============================] - 2s 1ms/step - loss: 0.2628 - accuracy: 0.9279\n",
            "Epoch 76/100\n",
            "1875/1875 [==============================] - 2s 1ms/step - loss: 0.2625 - accuracy: 0.9281\n",
            "Epoch 77/100\n",
            "1875/1875 [==============================] - 2s 1ms/step - loss: 0.2623 - accuracy: 0.9276\n",
            "Epoch 78/100\n",
            "1875/1875 [==============================] - 2s 1ms/step - loss: 0.2621 - accuracy: 0.9276\n",
            "Epoch 79/100\n",
            "1875/1875 [==============================] - 2s 1ms/step - loss: 0.2618 - accuracy: 0.9279\n",
            "Epoch 80/100\n",
            "1875/1875 [==============================] - 2s 1ms/step - loss: 0.2616 - accuracy: 0.9279\n",
            "Epoch 81/100\n",
            "1875/1875 [==============================] - 2s 1ms/step - loss: 0.2614 - accuracy: 0.9279\n",
            "Epoch 82/100\n",
            "1875/1875 [==============================] - 2s 1ms/step - loss: 0.2612 - accuracy: 0.9283\n",
            "Epoch 83/100\n",
            "1875/1875 [==============================] - 2s 1ms/step - loss: 0.2610 - accuracy: 0.9279\n",
            "Epoch 84/100\n",
            "1875/1875 [==============================] - 2s 1ms/step - loss: 0.2606 - accuracy: 0.9281\n",
            "Epoch 85/100\n",
            "1875/1875 [==============================] - 2s 1ms/step - loss: 0.2605 - accuracy: 0.9287\n",
            "Epoch 86/100\n",
            "1875/1875 [==============================] - 2s 1ms/step - loss: 0.2603 - accuracy: 0.9281\n",
            "Epoch 87/100\n",
            "1875/1875 [==============================] - 2s 1ms/step - loss: 0.2602 - accuracy: 0.9284\n",
            "Epoch 88/100\n",
            "1875/1875 [==============================] - 2s 1ms/step - loss: 0.2598 - accuracy: 0.9283\n",
            "Epoch 89/100\n",
            "1875/1875 [==============================] - 2s 1ms/step - loss: 0.2597 - accuracy: 0.9285\n",
            "Epoch 90/100\n",
            "1875/1875 [==============================] - 2s 1ms/step - loss: 0.2596 - accuracy: 0.9283\n",
            "Epoch 91/100\n",
            "1875/1875 [==============================] - 2s 1ms/step - loss: 0.2593 - accuracy: 0.9285\n",
            "Epoch 92/100\n",
            "1875/1875 [==============================] - 2s 1ms/step - loss: 0.2591 - accuracy: 0.9287\n",
            "Epoch 93/100\n",
            "1875/1875 [==============================] - 2s 1ms/step - loss: 0.2589 - accuracy: 0.9287\n",
            "Epoch 94/100\n",
            "1875/1875 [==============================] - 2s 1ms/step - loss: 0.2587 - accuracy: 0.9289\n",
            "Epoch 95/100\n",
            "1875/1875 [==============================] - 2s 1ms/step - loss: 0.2585 - accuracy: 0.9288\n",
            "Epoch 96/100\n",
            "1875/1875 [==============================] - 2s 1ms/step - loss: 0.2584 - accuracy: 0.9291\n",
            "Epoch 97/100\n",
            "1875/1875 [==============================] - 2s 1ms/step - loss: 0.2582 - accuracy: 0.9291\n",
            "Epoch 98/100\n",
            "1875/1875 [==============================] - 2s 1ms/step - loss: 0.2580 - accuracy: 0.9290\n",
            "Epoch 99/100\n",
            "1875/1875 [==============================] - 2s 1ms/step - loss: 0.2578 - accuracy: 0.9291\n",
            "Epoch 100/100\n",
            "1875/1875 [==============================] - 2s 1ms/step - loss: 0.2577 - accuracy: 0.9293\n"
          ],
          "name": "stdout"
        }
      ]
    },
    {
      "cell_type": "code",
      "metadata": {
        "id": "ZFmlW4UX9mmr",
        "outputId": "e65b3a67-56c4-4e20-af70-8e93a5f1faf1",
        "colab": {
          "base_uri": "https://localhost:8080/",
          "height": 282
        }
      },
      "source": [
        "x = np.arange(0, 100, 1)\n",
        "plt.plot(x, y_acc)\n",
        "#흐음.."
      ],
      "execution_count": 115,
      "outputs": [
        {
          "output_type": "execute_result",
          "data": {
            "text/plain": [
              "[<matplotlib.lines.Line2D at 0x7fe454714b70>]"
            ]
          },
          "metadata": {
            "tags": []
          },
          "execution_count": 115
        },
        {
          "output_type": "display_data",
          "data": {
            "image/png": "[encoded data removed]",
            "text/plain": [
              "<Figure size 432x288 with 1 Axes>"
            ]
          },
          "metadata": {
            "tags": [],
            "needs_background": "light"
          }
        }
      ]
    },
    {
      "cell_type": "code",
      "metadata": {
        "id": "IMg5Bdj1gIhN"
      },
      "source": [
        "# for i in range(10):\n",
        "#   plt.imshow(Xtest[i])\n",
        "#   plt.title(i)\n",
        "#   plt.show()"
      ],
      "execution_count": 116,
      "outputs": []
    },
    {
      "cell_type": "code",
      "metadata": {
        "id": "_33nKdqp9-R2",
        "outputId": "42f7e42a-bd29-471e-9028-496a78fb3425",
        "colab": {
          "base_uri": "https://localhost:8080/",
          "height": 756
        }
      },
      "source": [
        "net.fit(X_train, y_train, epochs=20)\n",
        "\n"
      ],
      "execution_count": 135,
      "outputs": [
        {
          "output_type": "stream",
          "text": [
            "Epoch 1/20\n",
            "1875/1875 [==============================] - 2s 1ms/step - loss: 0.7900 - accuracy: 0.8105\n",
            "Epoch 2/20\n",
            "1875/1875 [==============================] - 2s 1ms/step - loss: 0.4591 - accuracy: 0.8791\n",
            "Epoch 3/20\n",
            "1875/1875 [==============================] - 2s 1ms/step - loss: 0.4052 - accuracy: 0.8906\n",
            "Epoch 4/20\n",
            "1875/1875 [==============================] - 2s 1ms/step - loss: 0.3781 - accuracy: 0.8962\n",
            "Epoch 5/20\n",
            "1875/1875 [==============================] - 2s 1ms/step - loss: 0.3611 - accuracy: 0.9003\n",
            "Epoch 6/20\n",
            "1875/1875 [==============================] - 2s 1ms/step - loss: 0.3490 - accuracy: 0.9031\n",
            "Epoch 7/20\n",
            "1875/1875 [==============================] - 2s 1ms/step - loss: 0.3399 - accuracy: 0.9052\n",
            "Epoch 8/20\n",
            "1875/1875 [==============================] - 2s 1ms/step - loss: 0.3326 - accuracy: 0.9071\n",
            "Epoch 9/20\n",
            "1875/1875 [==============================] - 2s 1ms/step - loss: 0.3266 - accuracy: 0.9093\n",
            "Epoch 10/20\n",
            "1875/1875 [==============================] - 2s 1ms/step - loss: 0.3217 - accuracy: 0.9106\n",
            "Epoch 11/20\n",
            "1875/1875 [==============================] - 2s 1ms/step - loss: 0.3173 - accuracy: 0.9111\n",
            "Epoch 12/20\n",
            "1875/1875 [==============================] - 2s 1ms/step - loss: 0.3136 - accuracy: 0.9125\n",
            "Epoch 13/20\n",
            "1875/1875 [==============================] - 2s 1ms/step - loss: 0.3104 - accuracy: 0.9138\n",
            "Epoch 14/20\n",
            "1875/1875 [==============================] - 2s 1ms/step - loss: 0.3075 - accuracy: 0.9148\n",
            "Epoch 15/20\n",
            "1875/1875 [==============================] - 2s 1ms/step - loss: 0.3049 - accuracy: 0.9157\n",
            "Epoch 16/20\n",
            "1875/1875 [==============================] - 2s 1ms/step - loss: 0.3026 - accuracy: 0.9161\n",
            "Epoch 17/20\n",
            "1875/1875 [==============================] - 2s 1ms/step - loss: 0.3005 - accuracy: 0.9167\n",
            "Epoch 18/20\n",
            "1875/1875 [==============================] - 2s 1ms/step - loss: 0.2984 - accuracy: 0.9173\n",
            "Epoch 19/20\n",
            "1875/1875 [==============================] - 2s 1ms/step - loss: 0.2966 - accuracy: 0.9175\n",
            "Epoch 20/20\n",
            "1875/1875 [==============================] - 2s 1ms/step - loss: 0.2950 - accuracy: 0.9182\n"
          ],
          "name": "stdout"
        },
        {
          "output_type": "execute_result",
          "data": {
            "text/plain": [
              "<tensorflow.python.keras.callbacks.History at 0x7fe45459e3c8>"
            ]
          },
          "metadata": {
            "tags": []
          },
          "execution_count": 135
        }
      ]
    },
    {
      "cell_type": "code",
      "metadata": {
        "id": "8QKZO2LQgYD6",
        "outputId": "713fb0d4-4217-484a-fcc5-be4af9b68d9d",
        "colab": {
          "base_uri": "https://localhost:8080/",
          "height": 34
        }
      },
      "source": [
        "np.argmax(net.predict(X_test)[0])\n",
        "y_test[0]"
      ],
      "execution_count": 136,
      "outputs": [
        {
          "output_type": "execute_result",
          "data": {
            "text/plain": [
              "array([0., 0., 0., 0., 0., 0., 0., 1., 0., 0.], dtype=float32)"
            ]
          },
          "metadata": {
            "tags": []
          },
          "execution_count": 136
        }
      ]
    },
    {
      "cell_type": "code",
      "metadata": {
        "id": "cxKvePUDhSLX",
        "outputId": "8813bb45-c0d2-4dc1-a3f2-dc006e17f099",
        "colab": {
          "base_uri": "https://localhost:8080/",
          "height": 72
        }
      },
      "source": [
        "loss, soft_acc = net.evaluate(X_test, y_test)\n",
        "print(soft_acc)"
      ],
      "execution_count": 137,
      "outputs": [
        {
          "output_type": "stream",
          "text": [
            "313/313 [==============================] - 0s 973us/step - loss: 0.2864 - accuracy: 0.9194\n",
            "0.9193999767303467\n"
          ],
          "name": "stdout"
        }
      ]
    },
    {
      "cell_type": "markdown",
      "metadata": {
        "id": "ysL7dgyxq3rd"
      },
      "source": [
        "# SVM"
      ]
    },
    {
      "cell_type": "code",
      "metadata": {
        "id": "oMRvtOE5hkzD",
        "outputId": "429ffe93-51de-4fd1-ecaa-a00b4f331be0",
        "colab": {
          "base_uri": "https://localhost:8080/",
          "height": 142
        }
      },
      "source": [
        "from sklearn.svm import LinearSVC\n",
        "from sklearn.metrics import accuracy_score\n",
        "\n",
        "svc = LinearSVC()\n",
        "\n",
        "(X, y), (Xtest, y_test) = mnist.load_data()\n",
        "\n",
        "X_train = X.reshape((60000, 28*28))\n",
        "X_train = X_train/255\n",
        "\n",
        "X_test = Xtest.reshape((10000, 28*28))\n",
        "X_test = X_test/255\n",
        "\n",
        "svc.fit(X_train, y)"
      ],
      "execution_count": 120,
      "outputs": [
        {
          "output_type": "stream",
          "text": [
            "/usr/local/lib/python3.6/dist-packages/sklearn/svm/_base.py:947: ConvergenceWarning: Liblinear failed to converge, increase the number of iterations.\n",
            "  \"the number of iterations.\", ConvergenceWarning)\n"
          ],
          "name": "stderr"
        },
        {
          "output_type": "execute_result",
          "data": {
            "text/plain": [
              "LinearSVC(C=1.0, class_weight=None, dual=True, fit_intercept=True,\n",
              "          intercept_scaling=1, loss='squared_hinge', max_iter=1000,\n",
              "          multi_class='ovr', penalty='l2', random_state=None, tol=0.0001,\n",
              "          verbose=0)"
            ]
          },
          "metadata": {
            "tags": []
          },
          "execution_count": 120
        }
      ]
    },
    {
      "cell_type": "code",
      "metadata": {
        "id": "IYXP-wZkrdkZ",
        "outputId": "185ab4d4-7027-4f42-dd66-2808d2db80c4",
        "colab": {
          "base_uri": "https://localhost:8080/",
          "height": 34
        }
      },
      "source": [
        "y_pred = svc.predict(X_test)\n",
        "print(svc.coef_[0, 1], svc.intercept_[0])\n"
      ],
      "execution_count": 121,
      "outputs": [
        {
          "output_type": "stream",
          "text": [
            "0.0 -1.2055522877191729\n"
          ],
          "name": "stdout"
        }
      ]
    },
    {
      "cell_type": "code",
      "metadata": {
        "id": "go9nheaAv67f",
        "outputId": "d8ec4d0f-ddba-4b22-962f-366bfe338515",
        "colab": {
          "base_uri": "https://localhost:8080/",
          "height": 34
        }
      },
      "source": [
        "SVC_acc = accuracy_score(y_pred, y_test)\n",
        "print(SVC_acc)"
      ],
      "execution_count": 122,
      "outputs": [
        {
          "output_type": "stream",
          "text": [
            "0.9183\n"
          ],
          "name": "stdout"
        }
      ]
    },
    {
      "cell_type": "markdown",
      "metadata": {
        "id": "OET1_YQYy_7x"
      },
      "source": [
        "# Random Forest"
      ]
    },
    {
      "cell_type": "code",
      "metadata": {
        "id": "Gm2Tx4jVydh3"
      },
      "source": [
        "from sklearn import tree\n",
        "from sklearn.ensemble import RandomForestClassifier\n"
      ],
      "execution_count": 140,
      "outputs": []
    },
    {
      "cell_type": "code",
      "metadata": {
        "id": "mSeWjhw8zXw_"
      },
      "source": [
        "clf = RandomForestClassifier(n_estimators=50)\n",
        "#nuber of tree\n",
        "\n",
        "(X, y), (Xtest, y_test) = mnist.load_data()\n",
        "\n",
        "X_train = X.reshape((60000, 28*28))\n",
        "X_train = X_train/255\n",
        "\n",
        "X_test = Xtest.reshape((10000, 28*28))\n",
        "X_test = X_test/255"
      ],
      "execution_count": 146,
      "outputs": []
    },
    {
      "cell_type": "code",
      "metadata": {
        "id": "T22dp_nXz6Ng",
        "outputId": "24f0092d-6f31-40c6-eb67-2d970f23f5c2",
        "colab": {
          "base_uri": "https://localhost:8080/",
          "height": 157
        }
      },
      "source": [
        "clf.fit(X_train, y)"
      ],
      "execution_count": 147,
      "outputs": [
        {
          "output_type": "execute_result",
          "data": {
            "text/plain": [
              "RandomForestClassifier(bootstrap=True, ccp_alpha=0.0, class_weight=None,\n",
              "                       criterion='gini', max_depth=None, max_features='auto',\n",
              "                       max_leaf_nodes=None, max_samples=None,\n",
              "                       min_impurity_decrease=0.0, min_impurity_split=None,\n",
              "                       min_samples_leaf=1, min_samples_split=2,\n",
              "                       min_weight_fraction_leaf=0.0, n_estimators=50,\n",
              "                       n_jobs=None, oob_score=False, random_state=None,\n",
              "                       verbose=0, warm_start=False)"
            ]
          },
          "metadata": {
            "tags": []
          },
          "execution_count": 147
        }
      ]
    },
    {
      "cell_type": "code",
      "metadata": {
        "id": "xWVNDiaKz_tl",
        "outputId": "e11ae821-1b92-4838-edd6-7aa5b839ee35",
        "colab": {
          "base_uri": "https://localhost:8080/",
          "height": 34
        }
      },
      "source": [
        "y_pred = clf.predict(X_test)\n",
        "RF_acc = accuracy_score(y_pred, y_test)\n",
        "print(RF_acc)"
      ],
      "execution_count": 148,
      "outputs": [
        {
          "output_type": "stream",
          "text": [
            "0.9686\n"
          ],
          "name": "stdout"
        }
      ]
    },
    {
      "cell_type": "code",
      "metadata": {
        "id": "5SKqDBJD2J9N"
      },
      "source": [
        "acc ={\n",
        "    'method': 'accuracy', \n",
        "    'softmax': f'{soft_acc}', \n",
        "    'SVC': f'{SVC_acc}', \n",
        "    'RandomForest': f'{RF_acc}'\n",
        "}"
      ],
      "execution_count": 149,
      "outputs": []
    },
    {
      "cell_type": "code",
      "metadata": {
        "id": "x7eGl2zV_m3_",
        "outputId": "8a6dd7ef-179a-407d-e26a-51564fcedbaf",
        "colab": {
          "base_uri": "https://localhost:8080/",
          "height": 167
        }
      },
      "source": [
        "import pandas as pd\n",
        "\n",
        "df = pd.DataFrame(acc.values(), index= acc.keys())\n",
        "df"
      ],
      "execution_count": 150,
      "outputs": [
        {
          "output_type": "execute_result",
          "data": {
            "text/html": [
              "<div>\n",
              "<style scoped>\n",
              "    .dataframe tbody tr th:only-of-type {\n",
              "        vertical-align: middle;\n",
              "    }\n",
              "\n",
              "    .dataframe tbody tr th {\n",
              "        vertical-align: top;\n",
              "    }\n",
              "\n",
              "    .dataframe thead th {\n",
              "        text-align: right;\n",
              "    }\n",
              "</style>\n",
              "<table border=\"1\" class=\"dataframe\">\n",
              "  <thead>\n",
              "    <tr style=\"text-align: right;\">\n",
              "      <th></th>\n",
              "      <th>0</th>\n",
              "    </tr>\n",
              "  </thead>\n",
              "  <tbody>\n",
              "    <tr>\n",
              "      <th>method</th>\n",
              "      <td>accuracy</td>\n",
              "    </tr>\n",
              "    <tr>\n",
              "      <th>softmax</th>\n",
              "      <td>0.9193999767303467</td>\n",
              "    </tr>\n",
              "    <tr>\n",
              "      <th>SVC</th>\n",
              "      <td>0.9183</td>\n",
              "    </tr>\n",
              "    <tr>\n",
              "      <th>RandomForest</th>\n",
              "      <td>0.9686</td>\n",
              "    </tr>\n",
              "  </tbody>\n",
              "</table>\n",
              "</div>"
            ],
            "text/plain": [
              "                               0\n",
              "method                  accuracy\n",
              "softmax       0.9193999767303467\n",
              "SVC                       0.9183\n",
              "RandomForest              0.9686"
            ]
          },
          "metadata": {
            "tags": []
          },
          "execution_count": 150
        }
      ]
    },
    {
      "cell_type": "markdown",
      "metadata": {
        "id": "Krm9DC1GERc3"
      },
      "source": [
        "# 고찰\n",
        "\n"
      ]
    },
    {
      "cell_type": "markdown",
      "metadata": {
        "id": "S1tSQT7tEfiO"
      },
      "source": [
        "결과은 위의 표와 같이 나왔다. \n",
        "모두 0.9 이상이다. softmax는 epochs 값을 증가시키면 정확도가 증가하는 경향을 보였지만 overfitting 가능성도 있고 시간도 오래 걸려서 적당한 값을 선택하였다. \n",
        "SVC는 정확도는 softmax와 비슷하다. 다만 시간이 매우매우 오래 걸려서 이와 비슷한 분류를 할 때 다시는 사용하고싶지 않다. LinearSVC가 시간도 더 적게 들고 선형 분류에 최적화 되어있다고 해서 바꿔서 해봤다. 시간은 분명 줄었지만 짧은 시간은 아니었고 정확도가 줄었다. 선형이 아닌 다른 방법을 쓰면 다른 결과가 나올까 궁금하긴 하다. RandomForest는 n_estimators를 50과 100으로 설정해봤는데 둘 다 0.96 정도로 매우 우수한 결과를 보여줬고 시간도 적게 걸렸다. \n",
        "관련 계수를 어떻게 설정하느냐에 따라, 시간적 상황에 따라 조금의 차이는 있겠지만 MNIST 데이터 분류에는\n",
        "\n",
        "$$ RandomForest>>> Softmax > SVC $$\n",
        "\n",
        "이 순서로 정확하고 또 합리적인 방법인 것 같다. \n"
      ]
    },
    {
      "cell_type": "code",
      "metadata": {
        "id": "qXcqxdBKArE9"
      },
      "source": [
        ""
      ],
      "execution_count": 128,
      "outputs": []
    }
  ]
}