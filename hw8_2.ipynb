{
  "nbformat": 4,
  "nbformat_minor": 0,
  "metadata": {
    "colab": {
      "name": "hw8_2.ipynb",
      "provenance": [],
      "authorship_tag": "ABX9TyN6+SO7atJCngPWR3cjNmUk",
      "include_colab_link": true
    },
    "kernelspec": {
      "name": "python3",
      "display_name": "Python 3"
    }
  },
  "cells": [
    {
      "cell_type": "markdown",
      "metadata": {
        "id": "view-in-github",
        "colab_type": "text"
      },
      "source": [
        "<a href=\"https://colab.research.google.com/github/cho-jr/2020_cphys2/blob/master/hw8_2.ipynb\" target=\"_parent\"><img src=\"https://colab.research.google.com/assets/colab-badge.svg\" alt=\"Open In Colab\"/></a>"
      ]
    },
    {
      "cell_type": "code",
      "metadata": {
        "id": "3ptjsmIvnp9W"
      },
      "source": [
        "from keras.datasets import fashion_mnist\n",
        "from tensorflow import keras\n",
        "from keras import models \n",
        "from keras import layers\n",
        "import numpy as np\n",
        "import matplotlib.pyplot as plt\n",
        "from keras.utils import to_categorical\n",
        "\n",
        "(X, y), (Xtest, y_test) = fashion_mnist.load_data()"
      ],
      "execution_count": 148,
      "outputs": []
    },
    {
      "cell_type": "code",
      "metadata": {
        "id": "MNIi0lcLpYuc",
        "outputId": "07c30508-7ec0-46b2-edc7-768f019ad272",
        "colab": {
          "base_uri": "https://localhost:8080/"
        }
      },
      "source": [
        "X.shape"
      ],
      "execution_count": 149,
      "outputs": [
        {
          "output_type": "execute_result",
          "data": {
            "text/plain": [
              "(60000, 28, 28)"
            ]
          },
          "metadata": {
            "tags": []
          },
          "execution_count": 149
        }
      ]
    },
    {
      "cell_type": "code",
      "metadata": {
        "id": "E25EIV1RpoKu",
        "outputId": "5d2d9f66-15a2-4c49-e270-f8e238855005",
        "colab": {
          "base_uri": "https://localhost:8080/",
          "height": 282
        }
      },
      "source": [
        "y[0], plt.imshow(X[0], cmap=plt.cm.binary)"
      ],
      "execution_count": 150,
      "outputs": [
        {
          "output_type": "execute_result",
          "data": {
            "text/plain": [
              "(9, <matplotlib.image.AxesImage at 0x7f8c5c3794e0>)"
            ]
          },
          "metadata": {
            "tags": []
          },
          "execution_count": 150
        },
        {
          "output_type": "display_data",
          "data": {
            "image/png": "[encoded data removed]",
            "text/plain": [
              "<Figure size 432x288 with 1 Axes>"
            ]
          },
          "metadata": {
            "tags": [],
            "needs_background": "light"
          }
        }
      ]
    },
    {
      "cell_type": "code",
      "metadata": {
        "id": "sNBX1lxtp3AP",
        "outputId": "a378a2e4-6d54-452d-d7eb-5162a6739b0c",
        "colab": {
          "base_uri": "https://localhost:8080/",
          "height": 282
        }
      },
      "source": [
        "y[1], plt.imshow(X[1], cmap=plt.cm.binary)"
      ],
      "execution_count": 151,
      "outputs": [
        {
          "output_type": "execute_result",
          "data": {
            "text/plain": [
              "(0, <matplotlib.image.AxesImage at 0x7f8c5c3f6ac8>)"
            ]
          },
          "metadata": {
            "tags": []
          },
          "execution_count": 151
        },
        {
          "output_type": "display_data",
          "data": {
            "image/png": "[encoded data removed]",
            "text/plain": [
              "<Figure size 432x288 with 1 Axes>"
            ]
          },
          "metadata": {
            "tags": [],
            "needs_background": "light"
          }
        }
      ]
    },
    {
      "cell_type": "code",
      "metadata": {
        "id": "0cr2_u5sqIIv"
      },
      "source": [
        "# 모델 만들기\n",
        "\n",
        "net = models.Sequential()\n",
        "net.add(layers.Dense(512, activation='relu', input_shape=(28*28,)))\n",
        "net.add(layers.Dropout(0.3))\n",
        "net.add(layers.Dense(64, activation='relu', input_shape=(28*28,)))\n",
        "net.add(layers.Dropout(0.3))\n",
        "net.add(layers.Dense(10, activation='softmax'))\n",
        "net.compile(optimizer='nadam', \n",
        "            loss='categorical_crossentropy', \n",
        "            metrics=['accuracy'])\n"
      ],
      "execution_count": 152,
      "outputs": []
    },
    {
      "cell_type": "code",
      "metadata": {
        "id": "lWQeFTbVrI9I"
      },
      "source": [
        "# 데이터 정리\n",
        "y_train = to_categorical(y)\n",
        "y_val = y_train[:10000]\n",
        "partial_y_train = y_train[10000:]\n",
        "\n",
        "y_test = to_categorical(y_test)\n",
        "\n",
        "X_train = X.reshape((60000, 28*28))\n",
        "X_train = X_train/255\n",
        "X_val = X_train[:10000]\n",
        "partial_X_train = X_train[10000:]\n",
        "\n",
        "X_test = Xtest.reshape((10000, 28*28))\n",
        "X_test = X_test/255\n"
      ],
      "execution_count": 153,
      "outputs": []
    },
    {
      "cell_type": "code",
      "metadata": {
        "id": "t1eq3Qk32GIy",
        "outputId": "a589b16f-a885-4cd2-e521-d0d67881c1e1",
        "colab": {
          "base_uri": "https://localhost:8080/"
        }
      },
      "source": [
        "net.fit(X_train, y_train, \n",
        "        epochs=10, \n",
        "        batch_size=128, \n",
        "        )"
      ],
      "execution_count": 154,
      "outputs": [
        {
          "output_type": "stream",
          "text": [
            "Epoch 1/10\n",
            "469/469 [==============================] - 6s 12ms/step - loss: 0.6109 - accuracy: 0.7838\n",
            "Epoch 2/10\n",
            "469/469 [==============================] - 5s 12ms/step - loss: 0.4307 - accuracy: 0.8434\n",
            "Epoch 3/10\n",
            "469/469 [==============================] - 6s 12ms/step - loss: 0.3850 - accuracy: 0.8614\n",
            "Epoch 4/10\n",
            "469/469 [==============================] - 5s 12ms/step - loss: 0.3599 - accuracy: 0.8700\n",
            "Epoch 5/10\n",
            "469/469 [==============================] - 5s 12ms/step - loss: 0.3445 - accuracy: 0.8752\n",
            "Epoch 6/10\n",
            "469/469 [==============================] - 5s 12ms/step - loss: 0.3287 - accuracy: 0.8805\n",
            "Epoch 7/10\n",
            "469/469 [==============================] - 5s 12ms/step - loss: 0.3158 - accuracy: 0.8851\n",
            "Epoch 8/10\n",
            "469/469 [==============================] - 6s 12ms/step - loss: 0.3053 - accuracy: 0.8891\n",
            "Epoch 9/10\n",
            "469/469 [==============================] - 5s 12ms/step - loss: 0.3001 - accuracy: 0.8899\n",
            "Epoch 10/10\n",
            "469/469 [==============================] - 5s 12ms/step - loss: 0.2925 - accuracy: 0.8923\n"
          ],
          "name": "stdout"
        },
        {
          "output_type": "execute_result",
          "data": {
            "text/plain": [
              "<tensorflow.python.keras.callbacks.History at 0x7f8c5c330748>"
            ]
          },
          "metadata": {
            "tags": []
          },
          "execution_count": 154
        }
      ]
    },
    {
      "cell_type": "code",
      "metadata": {
        "id": "84QIsvZ3rZd7",
        "outputId": "ba8f4708-9d92-4b22-adbd-404f9383807d",
        "colab": {
          "base_uri": "https://localhost:8080/"
        }
      },
      "source": [
        "net.fit(partial_X_train, partial_y_train, \n",
        "        epochs=10, \n",
        "        batch_size=64, \n",
        "        validation_data=(X_val, y_val))"
      ],
      "execution_count": 155,
      "outputs": [
        {
          "output_type": "stream",
          "text": [
            "Epoch 1/10\n",
            "782/782 [==============================] - 7s 9ms/step - loss: 0.3249 - accuracy: 0.8803 - val_loss: 0.2674 - val_accuracy: 0.9000\n",
            "Epoch 2/10\n",
            "782/782 [==============================] - 7s 9ms/step - loss: 0.3093 - accuracy: 0.8874 - val_loss: 0.2813 - val_accuracy: 0.8960\n",
            "Epoch 3/10\n",
            "782/782 [==============================] - 7s 9ms/step - loss: 0.2993 - accuracy: 0.8908 - val_loss: 0.2698 - val_accuracy: 0.8969\n",
            "Epoch 4/10\n",
            "782/782 [==============================] - 7s 9ms/step - loss: 0.2932 - accuracy: 0.8925 - val_loss: 0.2560 - val_accuracy: 0.9048\n",
            "Epoch 5/10\n",
            "782/782 [==============================] - 7s 9ms/step - loss: 0.2832 - accuracy: 0.8946 - val_loss: 0.2572 - val_accuracy: 0.9039\n",
            "Epoch 6/10\n",
            "782/782 [==============================] - 7s 9ms/step - loss: 0.2749 - accuracy: 0.8980 - val_loss: 0.2570 - val_accuracy: 0.9006\n",
            "Epoch 7/10\n",
            "782/782 [==============================] - 7s 9ms/step - loss: 0.2736 - accuracy: 0.8989 - val_loss: 0.2555 - val_accuracy: 0.9018\n",
            "Epoch 8/10\n",
            "782/782 [==============================] - 7s 10ms/step - loss: 0.2671 - accuracy: 0.9003 - val_loss: 0.2751 - val_accuracy: 0.8981\n",
            "Epoch 9/10\n",
            "782/782 [==============================] - 8s 10ms/step - loss: 0.2642 - accuracy: 0.9013 - val_loss: 0.2583 - val_accuracy: 0.9012\n",
            "Epoch 10/10\n",
            "782/782 [==============================] - 7s 9ms/step - loss: 0.2582 - accuracy: 0.9045 - val_loss: 0.2567 - val_accuracy: 0.9055\n"
          ],
          "name": "stdout"
        },
        {
          "output_type": "execute_result",
          "data": {
            "text/plain": [
              "<tensorflow.python.keras.callbacks.History at 0x7f8c59f237b8>"
            ]
          },
          "metadata": {
            "tags": []
          },
          "execution_count": 155
        }
      ]
    },
    {
      "cell_type": "code",
      "metadata": {
        "id": "JQuEi3MQr8IV",
        "outputId": "9634efed-4cb5-4435-cc5d-146938393c6e",
        "colab": {
          "base_uri": "https://localhost:8080/"
        }
      },
      "source": [
        "test_loss, test_acc = net.evaluate(X_test, y_test)"
      ],
      "execution_count": 156,
      "outputs": [
        {
          "output_type": "stream",
          "text": [
            "313/313 [==============================] - 1s 2ms/step - loss: 0.3214 - accuracy: 0.8894\n"
          ],
          "name": "stdout"
        }
      ]
    },
    {
      "cell_type": "code",
      "metadata": {
        "id": "QnV7EKfFs-nj",
        "outputId": "8311ee3e-f6f3-4caf-8823-f6799e8b20dc",
        "colab": {
          "base_uri": "https://localhost:8080/"
        }
      },
      "source": [
        "net.summary()"
      ],
      "execution_count": 157,
      "outputs": [
        {
          "output_type": "stream",
          "text": [
            "Model: \"sequential_19\"\n",
            "_________________________________________________________________\n",
            "Layer (type)                 Output Shape              Param #   \n",
            "=================================================================\n",
            "dense_52 (Dense)             (None, 512)               401920    \n",
            "_________________________________________________________________\n",
            "dropout_21 (Dropout)         (None, 512)               0         \n",
            "_________________________________________________________________\n",
            "dense_53 (Dense)             (None, 64)                32832     \n",
            "_________________________________________________________________\n",
            "dropout_22 (Dropout)         (None, 64)                0         \n",
            "_________________________________________________________________\n",
            "dense_54 (Dense)             (None, 10)                650       \n",
            "=================================================================\n",
            "Total params: 435,402\n",
            "Trainable params: 435,402\n",
            "Non-trainable params: 0\n",
            "_________________________________________________________________\n"
          ],
          "name": "stdout"
        }
      ]
    },
    {
      "cell_type": "markdown",
      "metadata": {
        "id": "zydt1qrg7Ye1"
      },
      "source": [
        ""
      ]
    },
    {
      "cell_type": "code",
      "metadata": {
        "id": "N2EptD_UtX2S",
        "outputId": "417f4a03-d48a-4508-dedf-6e74b54c103e",
        "colab": {
          "base_uri": "https://localhost:8080/",
          "height": 1000
        }
      },
      "source": [
        "name = ['T-shirt/top', 'Trouser', 'Pullover', 'Dress', 'Coat', 'Sandal', \n",
        "        'Shirt', 'Sneaker', 'Bag', 'Ankle boot']\n",
        "for i in range(10):\n",
        "  print(name[np.argmax(net.predict(X_test)[i])])\n",
        "  plt.imshow(Xtest[i], cmap=plt.cm.binary)\n",
        "  plt.show()"
      ],
      "execution_count": 174,
      "outputs": [
        {
          "output_type": "stream",
          "text": [
            "Ankle boot\n"
          ],
          "name": "stdout"
        },
        {
          "output_type": "display_data",
          "data": {
            "image/png": "[encoded data removed]",
            "text/plain": [
              "<Figure size 432x288 with 1 Axes>"
            ]
          },
          "metadata": {
            "tags": [],
            "needs_background": "light"
          }
        },
        {
          "output_type": "stream",
          "text": [
            "Pullover\n"
          ],
          "name": "stdout"
        },
        {
          "output_type": "display_data",
          "data": {
            "image/png": "[encoded data removed]",
            "text/plain": [
              "<Figure size 432x288 with 1 Axes>"
            ]
          },
          "metadata": {
            "tags": [],
            "needs_background": "light"
          }
        },
        {
          "output_type": "stream",
          "text": [
            "Trouser\n"
          ],
          "name": "stdout"
        },
        {
          "output_type": "display_data",
          "data": {
            "image/png": "[encoded data removed]",
            "text/plain": [
              "<Figure size 432x288 with 1 Axes>"
            ]
          },
          "metadata": {
            "tags": [],
            "needs_background": "light"
          }
        },
        {
          "output_type": "stream",
          "text": [
            "Trouser\n"
          ],
          "name": "stdout"
        },
        {
          "output_type": "display_data",
          "data": {
            "image/png": "[encoded data removed]",
            "text/plain": [
              "<Figure size 432x288 with 1 Axes>"
            ]
          },
          "metadata": {
            "tags": [],
            "needs_background": "light"
          }
        },
        {
          "output_type": "stream",
          "text": [
            "Shirt\n"
          ],
          "name": "stdout"
        },
        {
          "output_type": "display_data",
          "data": {
            "image/png": "[encoded data removed]",
            "text/plain": [
              "<Figure size 432x288 with 1 Axes>"
            ]
          },
          "metadata": {
            "tags": [],
            "needs_background": "light"
          }
        },
        {
          "output_type": "stream",
          "text": [
            "Trouser\n"
          ],
          "name": "stdout"
        },
        {
          "output_type": "display_data",
          "data": {
            "image/png": "[encoded data removed]",
            "text/plain": [
              "<Figure size 432x288 with 1 Axes>"
            ]
          },
          "metadata": {
            "tags": [],
            "needs_background": "light"
          }
        },
        {
          "output_type": "stream",
          "text": [
            "Coat\n"
          ],
          "name": "stdout"
        },
        {
          "output_type": "display_data",
          "data": {
            "image/png": "[encoded data removed]",
            "text/plain": [
              "<Figure size 432x288 with 1 Axes>"
            ]
          },
          "metadata": {
            "tags": [],
            "needs_background": "light"
          }
        },
        {
          "output_type": "stream",
          "text": [
            "Shirt\n"
          ],
          "name": "stdout"
        },
        {
          "output_type": "display_data",
          "data": {
            "image/png": "[encoded data removed]",
            "text/plain": [
              "<Figure size 432x288 with 1 Axes>"
            ]
          },
          "metadata": {
            "tags": [],
            "needs_background": "light"
          }
        },
        {
          "output_type": "stream",
          "text": [
            "Sandal\n"
          ],
          "name": "stdout"
        },
        {
          "output_type": "display_data",
          "data": {
            "image/png": "[encoded data removed]",
            "text/plain": [
              "<Figure size 432x288 with 1 Axes>"
            ]
          },
          "metadata": {
            "tags": [],
            "needs_background": "light"
          }
        },
        {
          "output_type": "stream",
          "text": [
            "Sneaker\n"
          ],
          "name": "stdout"
        },
        {
          "output_type": "display_data",
          "data": {
            "image/png": "[encoded data removed]",
            "text/plain": [
              "<Figure size 432x288 with 1 Axes>"
            ]
          },
          "metadata": {
            "tags": [],
            "needs_background": "light"
          }
        }
      ]
    },
    {
      "cell_type": "markdown",
      "metadata": {
        "id": "Ubah1YQjANVK"
      },
      "source": [
        "짧은 보고서\n",
        "validation과 Dropout까지 적용해봤다. 숫자 mnist와 같은 방법으로 했을 때는 정확도가 0.7에 못미쳤지만 위 방법을 적용하고 변수를 조절해본 결과 테스트 정확도가 0.88에 육박하는 쾌거를 이룩하였다. 모델을 가지고 테스트 데이터 일부를 예측하는 모습을 확인해보았다. 눈으로도 구분하기 힘든 사진을 잘 구분한 것을 볼 수 있었다. "
      ]
    },
    {
      "cell_type": "code",
      "metadata": {
        "id": "oNCjfdau6l7Q"
      },
      "source": [
        ""
      ],
      "execution_count": 172,
      "outputs": []
    },
    {
      "cell_type": "code",
      "metadata": {
        "id": "M3rV-cCF-tcV"
      },
      "source": [
        ""
      ],
      "execution_count": null,
      "outputs": []
    }
  ]
}