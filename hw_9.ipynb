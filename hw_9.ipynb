{
  "nbformat": 4,
  "nbformat_minor": 0,
  "metadata": {
    "kernelspec": {
      "display_name": "Python 3",
      "language": "python",
      "name": "python3"
    },
    "language_info": {
      "codemirror_mode": {
        "name": "ipython",
        "version": 3
      },
      "file_extension": ".py",
      "mimetype": "text/x-python",
      "name": "python",
      "nbconvert_exporter": "python",
      "pygments_lexer": "ipython3",
      "version": "3.7.4"
    },
    "colab": {
      "name": "hw_9.ipynb",
      "provenance": [],
      "collapsed_sections": [],
      "include_colab_link": true
    }
  },
  "cells": [
    {
      "cell_type": "markdown",
      "metadata": {
        "id": "view-in-github",
        "colab_type": "text"
      },
      "source": [
        "<a href=\"https://colab.research.google.com/github/cho-jr/2020_cphys2/blob/master/hw_9.ipynb\" target=\"_parent\"><img src=\"https://colab.research.google.com/assets/colab-badge.svg\" alt=\"Open In Colab\"/></a>"
      ]
    },
    {
      "cell_type": "markdown",
      "metadata": {
        "id": "7soev8EMJKxg"
      },
      "source": [
        "# Fashin MNIST \n",
        "### MNIST 패션 이미지를 CNN을 이용하여 분류하세요. CNN을 이용한 분류 결과를 MLP와 비교해보세요."
      ]
    },
    {
      "cell_type": "code",
      "metadata": {
        "id": "VLUTS6MAJKxl"
      },
      "source": [
        "from tensorflow import keras\n",
        "from keras import models \n",
        "from keras import layers\n",
        "import numpy as np\n",
        "import matplotlib.pyplot as plt\n",
        "from keras.utils import to_categorical\n",
        "from keras.datasets import fashion_mnist"
      ],
      "execution_count": 2,
      "outputs": []
    },
    {
      "cell_type": "markdown",
      "metadata": {
        "id": "sJHRn-34JKxt"
      },
      "source": [
        "#### Multi-Layer Perceptron (MLP)"
      ]
    },
    {
      "cell_type": "code",
      "metadata": {
        "id": "i0tFDVgsJKxu",
        "outputId": "cc3db917-4506-4421-d2dd-0f5ac679d9f8",
        "colab": {
          "base_uri": "https://localhost:8080/"
        }
      },
      "source": [
        "(X_train, y_train), (X_test, y_test) = fashion_mnist.load_data()\n",
        "y_train=to_categorical(y_train)\n",
        "y_test=to_categorical(y_test)\n",
        "\n",
        "# preprocessing\n",
        "X_train = X_train.reshape((60000, 28*28))\n",
        "X_train = X_train/255\n",
        "\n",
        "X_test = X_test.reshape((10000, 28*28))\n",
        "X_test = X_test/255\n",
        "\n",
        "net = models.Sequential()\n",
        "net.add(layers.Dense(512, activation='relu', input_shape=(28*28,))) \n",
        "net.add(layers.Dense(512, activation='relu')) \n",
        "net.add(layers.Dropout(0.5))\n",
        "net.add(layers.Dense(512, activation='relu')) \n",
        "net.add(layers.Dropout(0.5))\n",
        "net.add(layers.Dense(10, activation='softmax')) \n",
        "net.compile(optimizer='nadam',loss='categorical_crossentropy',metrics=['acc'])"
      ],
      "execution_count": 3,
      "outputs": [
        {
          "output_type": "stream",
          "text": [
            "Downloading data from https://storage.googleapis.com/tensorflow/tf-keras-datasets/train-labels-idx1-ubyte.gz\n",
            "32768/29515 [=================================] - 0s 0us/step\n",
            "Downloading data from https://storage.googleapis.com/tensorflow/tf-keras-datasets/train-images-idx3-ubyte.gz\n",
            "26427392/26421880 [==============================] - 0s 0us/step\n",
            "Downloading data from https://storage.googleapis.com/tensorflow/tf-keras-datasets/t10k-labels-idx1-ubyte.gz\n",
            "8192/5148 [===============================================] - 0s 0us/step\n",
            "Downloading data from https://storage.googleapis.com/tensorflow/tf-keras-datasets/t10k-images-idx3-ubyte.gz\n",
            "4423680/4422102 [==============================] - 0s 0us/step\n"
          ],
          "name": "stdout"
        }
      ]
    },
    {
      "cell_type": "code",
      "metadata": {
        "id": "vGBDsXbzJKx0"
      },
      "source": [
        "X_val = X_train[:10000]\n",
        "partial_X_train = X_train[10000:]\n",
        "\n",
        "y_val = y_train[:10000]\n",
        "partial_y_train = y_train[10000:]"
      ],
      "execution_count": 4,
      "outputs": []
    },
    {
      "cell_type": "code",
      "metadata": {
        "id": "97WKxIPWJKx6",
        "outputId": "1417a66a-b576-4076-8c7b-0af2254e7e75",
        "colab": {
          "base_uri": "https://localhost:8080/"
        }
      },
      "source": [
        "val= net.fit(partial_X_train,partial_y_train,epochs=10, batch_size=64, validation_data=(X_val, y_val))"
      ],
      "execution_count": 5,
      "outputs": [
        {
          "output_type": "stream",
          "text": [
            "Epoch 1/10\n",
            "782/782 [==============================] - 17s 21ms/step - loss: 0.5668 - acc: 0.7960 - val_loss: 0.4161 - val_acc: 0.8443\n",
            "Epoch 2/10\n",
            "782/782 [==============================] - 17s 21ms/step - loss: 0.4013 - acc: 0.8565 - val_loss: 0.3722 - val_acc: 0.8601\n",
            "Epoch 3/10\n",
            "782/782 [==============================] - 17s 21ms/step - loss: 0.3587 - acc: 0.8710 - val_loss: 0.3968 - val_acc: 0.8470\n",
            "Epoch 4/10\n",
            "782/782 [==============================] - 17s 21ms/step - loss: 0.3322 - acc: 0.8785 - val_loss: 0.3359 - val_acc: 0.8749\n",
            "Epoch 5/10\n",
            "782/782 [==============================] - 17s 21ms/step - loss: 0.3124 - acc: 0.8863 - val_loss: 0.3383 - val_acc: 0.8782\n",
            "Epoch 6/10\n",
            "782/782 [==============================] - 17s 22ms/step - loss: 0.2981 - acc: 0.8916 - val_loss: 0.3151 - val_acc: 0.8879\n",
            "Epoch 7/10\n",
            "782/782 [==============================] - 17s 21ms/step - loss: 0.2877 - acc: 0.8947 - val_loss: 0.3458 - val_acc: 0.8735\n",
            "Epoch 8/10\n",
            "782/782 [==============================] - 17s 21ms/step - loss: 0.2761 - acc: 0.8991 - val_loss: 0.3095 - val_acc: 0.8874\n",
            "Epoch 9/10\n",
            "782/782 [==============================] - 17s 21ms/step - loss: 0.2683 - acc: 0.9012 - val_loss: 0.3153 - val_acc: 0.8868\n",
            "Epoch 10/10\n",
            "782/782 [==============================] - 17s 21ms/step - loss: 0.2582 - acc: 0.9048 - val_loss: 0.3313 - val_acc: 0.8862\n"
          ],
          "name": "stdout"
        }
      ]
    },
    {
      "cell_type": "code",
      "metadata": {
        "id": "15OK4WjyJKyB",
        "outputId": "313aaef8-ea94-41c5-f448-b491bf3b2ef4",
        "colab": {
          "base_uri": "https://localhost:8080/"
        }
      },
      "source": [
        "test_loss, test_acc = net.evaluate(X_test,y_test)"
      ],
      "execution_count": 6,
      "outputs": [
        {
          "output_type": "stream",
          "text": [
            "313/313 [==============================] - 1s 3ms/step - loss: 0.3588 - acc: 0.8816\n"
          ],
          "name": "stdout"
        }
      ]
    },
    {
      "cell_type": "markdown",
      "metadata": {
        "id": "hHsB8US8JKyH"
      },
      "source": [
        "#### CNN"
      ]
    },
    {
      "cell_type": "code",
      "metadata": {
        "id": "vvQ2YGBjJKyI"
      },
      "source": [
        "(X_train, y_train), (X_test, y_test) = fashion_mnist.load_data()\n",
        "\n",
        "y_train=to_categorical(y_train)\n",
        "y_test=to_categorical(y_test)\n",
        "\n",
        "X_train = X_train.reshape((60000, 28, 28, 1))\n",
        "X_train = X_train/255\n",
        "\n",
        "X_test = X_test.reshape((10000, 28, 28, 1))\n",
        "X_test = X_test/255"
      ],
      "execution_count": 7,
      "outputs": []
    },
    {
      "cell_type": "code",
      "metadata": {
        "id": "VD8Sq7JMGLUE",
        "outputId": "47b7ba58-bae1-4d05-93d4-c11af2b815a6",
        "colab": {
          "base_uri": "https://localhost:8080/"
        }
      },
      "source": [
        "X_val = X_train[:10000]\n",
        "partial_X_train = X_train[10000:]\n",
        "\n",
        "y_val = y_train[:10000]\n",
        "partial_y_train[10000:]"
      ],
      "execution_count": 8,
      "outputs": [
        {
          "output_type": "execute_result",
          "data": {
            "text/plain": [
              "array([[0., 0., 0., ..., 1., 0., 0.],\n",
              "       [0., 1., 0., ..., 0., 0., 0.],\n",
              "       [0., 0., 0., ..., 0., 0., 0.],\n",
              "       ...,\n",
              "       [0., 0., 0., ..., 0., 0., 0.],\n",
              "       [1., 0., 0., ..., 0., 0., 0.],\n",
              "       [0., 0., 0., ..., 0., 0., 0.]], dtype=float32)"
            ]
          },
          "metadata": {
            "tags": []
          },
          "execution_count": 8
        }
      ]
    },
    {
      "cell_type": "code",
      "metadata": {
        "id": "s1x0D3P_KBV3"
      },
      "source": [
        "net = models.Sequential()\n",
        "net.add(layers.Conv2D(32, (3, 3), activation='relu', input_shape=(28, 28, 1)))\n",
        "net.add(layers.MaxPooling2D((2, 2)))\n",
        "net.add(layers.Conv2D(32, (3, 3), activation='relu'))\n",
        "net.add(layers.MaxPooling2D((2, 2)))\n",
        "net.add(layers.Conv2D(32, (3, 3), activation='relu'))\n",
        "net.add(layers.Flatten())\n",
        "net.add(layers.Dense(512, activation='relu'))\n",
        "net.add(layers.Dropout(0.5))\n",
        "net.add(layers.Dense(512, activation='relu'))\n",
        "net.add(layers.Dropout(0.5))\n",
        "net.add(layers.Dense(64, activation='relu'))\n",
        "net.add(layers.Dropout(0.5))\n",
        "net.add(layers.Dense(10, activation='softmax'))\n",
        "net.compile(optimizer='nadam', loss = 'categorical_crossentropy', metrics=['acc'])\n"
      ],
      "execution_count": 11,
      "outputs": []
    },
    {
      "cell_type": "code",
      "metadata": {
        "id": "sBh__YnDadn1",
        "outputId": "5a513195-d48b-4f49-adb5-0756afbde4b3",
        "colab": {
          "base_uri": "https://localhost:8080/"
        }
      },
      "source": [
        "net.summary()"
      ],
      "execution_count": 12,
      "outputs": [
        {
          "output_type": "stream",
          "text": [
            "Model: \"sequential_1\"\n",
            "_________________________________________________________________\n",
            "Layer (type)                 Output Shape              Param #   \n",
            "=================================================================\n",
            "conv2d (Conv2D)              (None, 26, 26, 32)        320       \n",
            "_________________________________________________________________\n",
            "max_pooling2d (MaxPooling2D) (None, 13, 13, 32)        0         \n",
            "_________________________________________________________________\n",
            "conv2d_1 (Conv2D)            (None, 11, 11, 32)        9248      \n",
            "_________________________________________________________________\n",
            "max_pooling2d_1 (MaxPooling2 (None, 5, 5, 32)          0         \n",
            "_________________________________________________________________\n",
            "conv2d_2 (Conv2D)            (None, 3, 3, 32)          9248      \n",
            "_________________________________________________________________\n",
            "flatten (Flatten)            (None, 288)               0         \n",
            "_________________________________________________________________\n",
            "dense_4 (Dense)              (None, 512)               147968    \n",
            "_________________________________________________________________\n",
            "dropout_2 (Dropout)          (None, 512)               0         \n",
            "_________________________________________________________________\n",
            "dense_5 (Dense)              (None, 512)               262656    \n",
            "_________________________________________________________________\n",
            "dropout_3 (Dropout)          (None, 512)               0         \n",
            "_________________________________________________________________\n",
            "dense_6 (Dense)              (None, 64)                32832     \n",
            "_________________________________________________________________\n",
            "dropout_4 (Dropout)          (None, 64)                0         \n",
            "_________________________________________________________________\n",
            "dense_7 (Dense)              (None, 10)                650       \n",
            "=================================================================\n",
            "Total params: 462,922\n",
            "Trainable params: 462,922\n",
            "Non-trainable params: 0\n",
            "_________________________________________________________________\n"
          ],
          "name": "stdout"
        }
      ]
    },
    {
      "cell_type": "code",
      "metadata": {
        "id": "JSK_FAfYbl3B",
        "outputId": "c4795bae-d270-4778-e06c-9d8f01bdbedc",
        "colab": {
          "base_uri": "https://localhost:8080/"
        }
      },
      "source": [
        "hist = net.fit(partial_X_train, partial_y_train, epochs=10, batch_size=64, validation_data=(X_val, y_val))\n"
      ],
      "execution_count": 13,
      "outputs": [
        {
          "output_type": "stream",
          "text": [
            "Epoch 1/10\n",
            "782/782 [==============================] - 42s 54ms/step - loss: 0.7292 - acc: 0.7337 - val_loss: 0.4458 - val_acc: 0.8291\n",
            "Epoch 2/10\n",
            "782/782 [==============================] - 43s 55ms/step - loss: 0.4509 - acc: 0.8443 - val_loss: 0.3531 - val_acc: 0.8714\n",
            "Epoch 3/10\n",
            "782/782 [==============================] - 43s 55ms/step - loss: 0.3813 - acc: 0.8718 - val_loss: 0.3452 - val_acc: 0.8750\n",
            "Epoch 4/10\n",
            "782/782 [==============================] - 43s 55ms/step - loss: 0.3400 - acc: 0.8841 - val_loss: 0.5068 - val_acc: 0.8401\n",
            "Epoch 5/10\n",
            "782/782 [==============================] - 49s 62ms/step - loss: 0.3182 - acc: 0.8898 - val_loss: 0.2810 - val_acc: 0.8967\n",
            "Epoch 6/10\n",
            "782/782 [==============================] - 43s 55ms/step - loss: 0.3002 - acc: 0.8963 - val_loss: 0.2988 - val_acc: 0.8971\n",
            "Epoch 7/10\n",
            "782/782 [==============================] - 43s 54ms/step - loss: 0.2837 - acc: 0.9017 - val_loss: 0.2924 - val_acc: 0.8879\n",
            "Epoch 8/10\n",
            "782/782 [==============================] - 43s 55ms/step - loss: 0.2714 - acc: 0.9058 - val_loss: 0.2634 - val_acc: 0.9064\n",
            "Epoch 9/10\n",
            "782/782 [==============================] - 43s 55ms/step - loss: 0.2575 - acc: 0.9111 - val_loss: 0.2833 - val_acc: 0.9029\n",
            "Epoch 10/10\n",
            "782/782 [==============================] - 42s 54ms/step - loss: 0.2502 - acc: 0.9128 - val_loss: 0.2675 - val_acc: 0.9047\n"
          ],
          "name": "stdout"
        }
      ]
    },
    {
      "cell_type": "code",
      "metadata": {
        "id": "G6ngbk5ZbVfZ",
        "outputId": "bda5c530-8e33-4b49-989b-a83ac96f3cad",
        "colab": {
          "base_uri": "https://localhost:8080/",
          "height": 282
        }
      },
      "source": [
        "val_dict = hist.history\n",
        "loss = val_dict['loss']\n",
        "val_loss = val_dict['val_loss']\n",
        "\n",
        "x = np.arange(0, len(loss))\n",
        "plt.plot(x, loss, 'bo', label='loss')\n",
        "plt.plot(x, val_loss, 'ro', label='val_loss')\n",
        "plt.legend()"
      ],
      "execution_count": 14,
      "outputs": [
        {
          "output_type": "execute_result",
          "data": {
            "text/plain": [
              "<matplotlib.legend.Legend at 0x7f8d863f2208>"
            ]
          },
          "metadata": {
            "tags": []
          },
          "execution_count": 14
        },
        {
          "output_type": "display_data",
          "data": {
            "image/png": "[encoded data removed]",
            "text/plain": [
              "<Figure size 432x288 with 1 Axes>"
            ]
          },
          "metadata": {
            "tags": [],
            "needs_background": "light"
          }
        }
      ]
    },
    {
      "cell_type": "code",
      "metadata": {
        "id": "jeAQlaxocD3u",
        "outputId": "52ebaddf-6b3e-4aec-e9ff-b8cb521ca812",
        "colab": {
          "base_uri": "https://localhost:8080/",
          "height": 282
        }
      },
      "source": [
        "acc = val_dict['acc']\n",
        "val_acc = val_dict['val_acc']\n",
        "\n",
        "x = np.arange(0, len(acc))\n",
        "plt.plot(x, acc, 'bo', label='acc')\n",
        "plt.plot(x, val_acc, 'ro', label='val_acc')\n",
        "plt.legend()"
      ],
      "execution_count": 15,
      "outputs": [
        {
          "output_type": "execute_result",
          "data": {
            "text/plain": [
              "<matplotlib.legend.Legend at 0x7f8d85f25668>"
            ]
          },
          "metadata": {
            "tags": []
          },
          "execution_count": 15
        },
        {
          "output_type": "display_data",
          "data": {
            "image/png": "[encoded data removed]",
            "text/plain": [
              "<Figure size 432x288 with 1 Axes>"
            ]
          },
          "metadata": {
            "tags": [],
            "needs_background": "light"
          }
        }
      ]
    },
    {
      "cell_type": "code",
      "metadata": {
        "id": "1KMaWVZnJtlW",
        "outputId": "eadd6c82-d3c2-47bf-9be1-f4ae5e683c4a",
        "colab": {
          "base_uri": "https://localhost:8080/"
        }
      },
      "source": [
        "test_loss, test_acc = net.evaluate(X_test, y_test)"
      ],
      "execution_count": 16,
      "outputs": [
        {
          "output_type": "stream",
          "text": [
            "313/313 [==============================] - 3s 9ms/step - loss: 0.2871 - acc: 0.8999\n"
          ],
          "name": "stdout"
        }
      ]
    },
    {
      "cell_type": "code",
      "metadata": {
        "id": "LU7C_9n5J1fj"
      },
      "source": [
        ""
      ],
      "execution_count": 16,
      "outputs": []
    },
    {
      "cell_type": "markdown",
      "metadata": {
        "id": "VT4sVqo8lp3l"
      },
      "source": [
        "CNN 시간은 매우 오래걸린다.CNN이 MLP에 비해 Loss도 작고 accurecy가 큰 것을 알 수 있다. 이미지 데이터 학습에는 CNN모델이 더 적합하다. \n"
      ]
    },
    {
      "cell_type": "code",
      "metadata": {
        "id": "n5Mh7xSypy-V"
      },
      "source": [
        ""
      ],
      "execution_count": null,
      "outputs": []
    }
  ]
}